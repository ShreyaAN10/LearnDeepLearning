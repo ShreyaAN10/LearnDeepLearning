{
  "nbformat": 4,
  "nbformat_minor": 0,
  "metadata": {
    "colab": {
      "provenance": [],
      "authorship_tag": "ABX9TyN7JIiCalm9zytL8mAZr4PO",
      "include_colab_link": true
    },
    "kernelspec": {
      "name": "python3",
      "display_name": "Python 3"
    },
    "language_info": {
      "name": "python"
    }
  },
  "cells": [
    {
      "cell_type": "markdown",
      "metadata": {
        "id": "view-in-github",
        "colab_type": "text"
      },
      "source": [
        "<a href=\"https://colab.research.google.com/github/ShreyaAN10/LearnDeepLearning/blob/main/PlotDecisionBoundaries.ipynb\" target=\"_parent\"><img src=\"https://colab.research.google.com/assets/colab-badge.svg\" alt=\"Open In Colab\"/></a>"
      ]
    },
    {
      "cell_type": "markdown",
      "source": [
        "This function is a utility for visualizing decision boundaries of a machine learning model trained on 2D features. It can handle both binary and multi-class classification problems. The decision boundaries are plotted on a meshgrid, and the input data points are also visualized on the same plot. The function relies on PyTorch for model inference and NumPy/Matplotlib for data manipulation and visualization."
      ],
      "metadata": {
        "id": "9_OY2ljVyr-1"
      }
    },
    {
      "cell_type": "markdown",
      "source": [
        "## Imports"
      ],
      "metadata": {
        "id": "McDxRYEay6oL"
      }
    },
    {
      "cell_type": "code",
      "source": [
        "import torch\n",
        "from torch import nn\n",
        "import matplotlib.pyplot as plt\n",
        "import numpy as np"
      ],
      "metadata": {
        "id": "9PAC2B39y6lk"
      },
      "execution_count": 1,
      "outputs": []
    },
    {
      "cell_type": "markdown",
      "source": [
        "1. Setup:\n",
        "  - `model.to(\"cpu\")`: Moves the model to the CPU. PyTorch models can be on either CPU or GPU, and this line ensures that the subsequent computations are performed on the CPU.\n",
        "  - `X, y = X.to(\"cpu\"), y.to(\"cpu\")`: Moves the input data tensors `X` and `y` to the CPU as well. This is done to ensure consistency between PyTorch and NumPy operations.\n",
        "2. Grid Creation:\n",
        "  - Computes the minimum and maximum values of the features in X and adds a small margin `(0.1)` to create a boundary.\n",
        "  - Creates a 2D meshgrid `(xx, yy)` using np.meshgrid based on the minimum and maximum values of the features. This grid is used to generate points for predictions across the entire feature space.\n",
        "3. Features Creation:\n",
        "  - `np.column_stack((xx.ravel(), yy.ravel()))`: Flattens and stacks the xx and yy meshgrid arrays to create a 2D array of feature points.\n",
        "  - `torch.from_numpy(...)`: Converts the NumPy array to a PyTorch tensor.\n",
        "  - `.float()`: Converts the tensor to a float data type.\n",
        "\n",
        "4. Model Prediction:\n",
        "\n",
        "  - `model.eval()`: Sets the model to evaluation mode. This is important when there are layers like dropout or batch normalization that behave differently during training and evaluation.\n",
        "  - `with torch.inference_mode():`: Sets the model to inference mode. This is a context manager that temporarily disables gradient computation and reduces memory consumption.\n",
        "  - `y_logits = model(X_to_pred_on)`: Obtains the logits (raw scores) for the generated feature points.\n",
        "\n",
        "5. Prediction Processing:\n",
        "\n",
        "  - Checks whether the problem is binary or multi-class based on the number of unique classes in y.\n",
        "    - For multi-class classification: `torch.softmax(y_logits, dim=1).argmax(dim=1)`: Applies softmax to the logits and retrieves the class with the highest probability as the predicted class.\n",
        "    - For binary classification:\n",
        "`torch.round(torch.sigmoid(y_logits))`: Applies sigmoid activation to the logits and rounds to the nearest integer to obtain binary predictions (0 or 1).\n",
        "\n",
        "\n",
        "6. Plotting:\n",
        "- Reshapes the predicted labels to match the shape of the meshgrid `(xx and yy)`.\n",
        "  - `plt.contourf(xx, yy, y_pred, cmap=plt.cm.RdYlBu, alpha=0.7)`: Plots filled contours based on the reshaped predictions, creating decision boundaries.\n",
        "  - `plt.scatter(X[:, 0], X[:, 1], c=y, s=40, cmap=plt.cm.RdYlBu)`: Plots the input data points, where color (c) represents the true labels y.\n",
        "  - `plt.xlim(xx.min(), xx.max()) and plt.ylim(yy.min(), yy.max())`: Sets the limits of the plot to cover the entire meshgrid.-\n"
      ],
      "metadata": {
        "id": "vj17zIQJ1X15"
      }
    },
    {
      "cell_type": "code",
      "source": [
        "def plot_decision_boundaries(model: torch.nn.Module,\n",
        "                             X:     torch.Tensor,\n",
        "                             y:     torch.Tensor):\n",
        "  \"\"\"\n",
        "  Plot decision boundaries of a machine learning model on a 2D feature space\n",
        "  \"\"\"\n",
        "\n",
        "  # Setup\n",
        "  device = \"cpu\"\n",
        "  model.to(device)\n",
        "  X, y = X.to(device), y.to(device)\n",
        "\n",
        "  # Grid Creation\n",
        "  x_min, x_max = X[:, 0].min() - 0.1, X[:, 0].max() + 0.1\n",
        "  y_min, y_max = X[:, 1].min() - 0.1, X[:, 1].max() + 0.1\n",
        "  xx, yy = np.meshgrid(np.linspace(x_min, x_max, 101), np.linspace(y_min, y_max, 101))\n",
        "\n",
        "  # Features Creation\n",
        "  X_to_pred_on = torch.from_numpy(np.column_stack((xx.ravel(), yy.ravel()))).float()\n",
        "\n",
        "  # Model Prediction\n",
        "  model.eval()\n",
        "  with torch.inference_mode():\n",
        "    y_logits = model(X_to_pred_on)\n",
        "\n",
        "  # Prediction Processing\n",
        "  # Test for multi-class or binary and adjust logits to prediction labels\n",
        "  if len(torch.unique(y)) > 2:\n",
        "    y_pred = torch.softmax(y_logits, dim=1).argmax(dim=1)  # mutli-class\n",
        "  else:\n",
        "    y_pred = torch.round(torch.sigmoid(y_logits))  # binary\n",
        "\n",
        "  # Plotting\n",
        "  y_pred = y_pred.reshape(xx.shape).detach().numpy()\n",
        "  plt.contourf(xx, yy, y_pred, cmap=plt.cm.RdYlBu, alpha=0.7)\n",
        "  plt.scatter(X[:, 0], X[:, 1], c=y, s=40, cmap=plt.cm.RdYlBu)\n",
        "  plt.xlim(xx.min(), xx.max())\n",
        "  plt.ylim(yy.min(), yy.max())"
      ],
      "metadata": {
        "id": "dpQi_qfAy6id"
      },
      "execution_count": 3,
      "outputs": []
    },
    {
      "cell_type": "code",
      "source": [],
      "metadata": {
        "id": "fxlaXi7rzWDl"
      },
      "execution_count": null,
      "outputs": []
    },
    {
      "cell_type": "code",
      "source": [],
      "metadata": {
        "id": "Hw8kOtcTzWAc"
      },
      "execution_count": null,
      "outputs": []
    },
    {
      "cell_type": "code",
      "source": [],
      "metadata": {
        "id": "3RkMZ_GxzV9X"
      },
      "execution_count": null,
      "outputs": []
    }
  ]
}